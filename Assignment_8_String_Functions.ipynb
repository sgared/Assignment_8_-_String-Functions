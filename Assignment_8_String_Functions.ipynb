{
 "cells": [
  {
   "cell_type": "markdown",
   "id": "f6eed6bc86693a6e",
   "metadata": {},
   "source": [
    "INFO-B 210: Information Infrastructure I\n",
    "\n",
    "Assignment 8: String Functions"
   ]
  },
  {
   "cell_type": "markdown",
   "id": "55fb27d73f29cfdc",
   "metadata": {},
   "source": [
    "Purpose:\n",
    "\n",
    "The purpose of this assignment is to utilize python programming in practical setting to solve real world problems.\n",
    "\n",
    "Skills:\n",
    "In order to complete this assignment you will need to\n",
    "\n",
    "use critical thinking to write code to answer the questions\n",
    "\n",
    "practice Python fundamentals and best practices\n",
    "\n"
   ]
  },
  {
   "cell_type": "markdown",
   "id": "77acf9177a708101",
   "metadata": {},
   "source": [
    "Knowledge:\n",
    "\n",
    "This assignment will help you gain the following:\n",
    "\n",
    "understanding of string functions and their applications\n",
    "\n",
    "practice utilizing sting functions\n",
    "\n",
    " Write functions that address the following prompts. Your function should have proper documentation and error handling. In the main part of your program, you should call your function using the test cases listed below.\n",
    "\n",
    "1. We’ve previously discussed the importance of character frequency in cryptography. Most modern encryption techniques are well beyond the basic ciphers we’ve been using, rather than simple character replacement algorithms, meaning one character can correspond to multiple different characters, depending on the context. At which point, the frequency of the different types of characters can be relevant. Write a void function that takes a string as input, and will calculate the number of numeric characters, lower case characters, upper case characters, and symbols contained in the string and displays them to the user. Use string functions to make the display aesthetically pleasing. (40 points) "
   ]
  },
  {
   "cell_type": "code",
   "id": "3231aa1084312c78",
   "metadata": {
    "ExecuteTime": {
     "end_time": "2024-04-07T17:54:00.968946Z",
     "start_time": "2024-04-07T17:54:00.937553Z"
    }
   },
   "source": [
    "#global variable \n",
    "def crypto_Creator(a):\n",
    "    num_numeric, char_lower, char_upper, num_symbol = 0, 0, 0, 0\n",
    "    num_numeric1, char_lower1, char_upper1, num_symbol1 = \"\", \"\", \"\", \"\"\n",
    "    a = a.strip(\" \")\n",
    "    for i in range(len(a)):\n",
    "        if a[i].isdigit():\n",
    "            num_numeric += 1\n",
    "            num_numeric1 += a[i]\n",
    "        elif a[i].islower():\n",
    "            char_lower += 1\n",
    "            char_lower1 += a[i]\n",
    "        elif a[i].isupper():\n",
    "            char_upper += 1\n",
    "            char_upper1 += a[i]\n",
    "        else:\n",
    "            num_symbol += 1\n",
    "            num_symbol1 += a[i]\n",
    "            \n",
    "    print(f\"In the given input there are {num_numeric} numeric characters. Numeric characters: {num_numeric1}\")\n",
    "    print(f\"In the given input there are {char_lower} lowercase characters. Lowercase characters: {char_lower1}\")\n",
    "    print(f\"In the given input there are {char_upper} uppercase characters. Uppercase characters: {char_upper1}\")\n",
    "    print(f\"In the given input there are {num_symbol} symbols. Symbols: {num_symbol1}\")  \n"
   ],
   "outputs": [],
   "execution_count": 33
  },
  {
   "cell_type": "code",
   "id": "11469c3c3cb55d70",
   "metadata": {
    "ExecuteTime": {
     "end_time": "2024-04-07T17:54:01.046900Z",
     "start_time": "2024-04-07T17:54:01.031926Z"
    }
   },
   "source": [
    "#a.n<V}wePdAA`9kE2?\n",
    "crypto_Creator(\"n<V}wePdAA`9kE2?\")"
   ],
   "outputs": [
    {
     "name": "stdout",
     "output_type": "stream",
     "text": [
      "In the given input there are 2 numeric characters. Numeric characters: 92\n",
      "In the given input there are 5 lowercase characters. Lowercase characters: nwedk\n",
      "In the given input there are 5 uppercase characters. Uppercase characters: VPAAE\n",
      "In the given input there are 4 symbols. Symbols: <}`?\n"
     ]
    }
   ],
   "execution_count": 34
  },
  {
   "cell_type": "code",
   "id": "de290f313c8c876c",
   "metadata": {
    "ExecuteTime": {
     "end_time": "2024-04-07T17:54:01.062866Z",
     "start_time": "2024-04-07T17:54:01.046900Z"
    }
   },
   "source": [
    "#b.u@jmzB=\"nMLLH6Ee\"\n",
    "#global variable \n",
    "def crypto_Creator(a):\n",
    "    num_numeric, char_lower, char_upper, num_symbol = 0, 0, 0, 0\n",
    "    num_numeric1, char_lower1, char_upper1, num_symbol1 = \"\", \"\", \"\", \"\"\n",
    "    a = a.strip(\" \")\n",
    "    for i in range(len(a)):\n",
    "        if a[i].isdigit():\n",
    "            num_numeric += 1\n",
    "            num_numeric1 += a[i]\n",
    "        elif a[i].islower():\n",
    "            char_lower += 1\n",
    "            char_lower1 += a[i]\n",
    "        elif a[i].isupper():\n",
    "            char_upper += 1\n",
    "            char_upper1 += a[i]\n",
    "        else:\n",
    "            num_symbol += 1\n",
    "            num_symbol1 += a[i]\n",
    "            \n",
    "    print(f\"In the given input there are {num_numeric} numeric characters. Numeric characters: {num_numeric1}\")\n",
    "    print(f\"In the given input there are {char_lower} lowercase characters. Lowercase characters: {char_lower1}\")\n",
    "    print(f\"In the given input there are {char_upper} uppercase characters. Uppercase characters: {char_upper1}\")\n",
    "    print(f\"In the given input there are {num_symbol} symbols. Symbols: {num_symbol1}\")  \n",
    "\n",
    "crypto_Creator('u@jmzB=\"nMLLH6Ee')"
   ],
   "outputs": [
    {
     "name": "stdout",
     "output_type": "stream",
     "text": [
      "In the given input there are 1 numeric characters. Numeric characters: 6\n",
      "In the given input there are 6 lowercase characters. Lowercase characters: ujmzne\n",
      "In the given input there are 6 uppercase characters. Uppercase characters: BMLLHE\n",
      "In the given input there are 3 symbols. Symbols: @=\"\n"
     ]
    }
   ],
   "execution_count": 35
  },
  {
   "cell_type": "code",
   "id": "6d485f54f2cc6ed6",
   "metadata": {
    "ExecuteTime": {
     "end_time": "2024-04-07T17:54:01.078060Z",
     "start_time": "2024-04-07T17:54:01.065123Z"
    }
   },
   "source": [
    "#c.K}s?3UdG_t:m=+Wz\n",
    "def crypto_Creator(a):\n",
    "    num_numeric, char_lower, char_upper, num_symbol = 0, 0, 0, 0\n",
    "    num_numeric1, char_lower1, char_upper1, num_symbol1 = \"\", \"\", \"\", \"\"\n",
    "    a = a.strip(\" \")\n",
    "    for i in range(len(a)):\n",
    "        if a[i].isdigit():\n",
    "            num_numeric += 1\n",
    "            num_numeric1 += a[i]\n",
    "        elif a[i].islower():\n",
    "            char_lower += 1\n",
    "            char_lower1 += a[i]\n",
    "        elif a[i].isupper():\n",
    "            char_upper += 1\n",
    "            char_upper1 += a[i]\n",
    "        else:\n",
    "            num_symbol += 1\n",
    "            num_symbol1 += a[i]\n",
    "            \n",
    "    print(f\"In the given input there are {num_numeric} numeric characters. Numeric characters: {num_numeric1}\")\n",
    "    print(f\"In the given input there are {char_lower} lowercase characters. Lowercase characters: {char_lower1}\")\n",
    "    print(f\"In the given input there are {char_upper} uppercase characters. Uppercase characters: {char_upper1}\")\n",
    "    print(f\"In the given input there are {num_symbol} symbols. Symbols: {num_symbol1}\")  \n",
    "\n",
    "crypto_Creator(\"K}s?3UdG_t:m=+Wz\")"
   ],
   "outputs": [
    {
     "name": "stdout",
     "output_type": "stream",
     "text": [
      "In the given input there are 1 numeric characters. Numeric characters: 3\n",
      "In the given input there are 5 lowercase characters. Lowercase characters: sdtmz\n",
      "In the given input there are 4 uppercase characters. Uppercase characters: KUGW\n",
      "In the given input there are 6 symbols. Symbols: }?_:=+\n"
     ]
    }
   ],
   "execution_count": 36
  },
  {
   "cell_type": "code",
   "id": "737c6288e4f5c94",
   "metadata": {
    "ExecuteTime": {
     "end_time": "2024-04-07T17:54:01.094192Z",
     "start_time": "2024-04-07T17:54:01.079188Z"
    }
   },
   "source": [
    "#d.N7pKt`N/Y2Pcr/mS\n",
    "def crypto_Creator(a):\n",
    "    num_numeric, char_lower, char_upper, num_symbol = 0, 0, 0, 0\n",
    "    num_numeric1, char_lower1, char_upper1, num_symbol1 = \"\", \"\", \"\", \"\"\n",
    "    a = a.strip(\" \")\n",
    "    for i in range(len(a)):\n",
    "        if a[i].isdigit():\n",
    "            num_numeric += 1\n",
    "            num_numeric1 += a[i]\n",
    "        elif a[i].islower():\n",
    "            char_lower += 1\n",
    "            char_lower1 += a[i]\n",
    "        elif a[i].isupper():\n",
    "            char_upper += 1\n",
    "            char_upper1 += a[i]\n",
    "        else:\n",
    "            num_symbol += 1\n",
    "            num_symbol1 += a[i]\n",
    "            \n",
    "    print(f\"In the given input there are {num_numeric} numeric characters. Numeric characters: {num_numeric1}\")\n",
    "    print(f\"In the given input there are {char_lower} lowercase characters. Lowercase characters: {char_lower1}\")\n",
    "    print(f\"In the given input there are {char_upper} uppercase characters. Uppercase characters: {char_upper1}\")\n",
    "    print(f\"In the given input there are {num_symbol} symbols. Symbols: {num_symbol1}\")  \n",
    "\n",
    "crypto_Creator(\"N7pKt\\`N/Y2Pcr/mS\")"
   ],
   "outputs": [
    {
     "name": "stdout",
     "output_type": "stream",
     "text": [
      "In the given input there are 2 numeric characters. Numeric characters: 72\n",
      "In the given input there are 5 lowercase characters. Lowercase characters: ptcrm\n",
      "In the given input there are 6 uppercase characters. Uppercase characters: NKNYPS\n",
      "In the given input there are 4 symbols. Symbols: \\`//\n"
     ]
    }
   ],
   "execution_count": 37
  },
  {
   "cell_type": "code",
   "id": "8a381519d9e21f83",
   "metadata": {
    "ExecuteTime": {
     "end_time": "2024-04-07T17:54:01.126182Z",
     "start_time": "2024-04-07T17:54:01.111351Z"
    }
   },
   "source": [
    "#e.K^5Vk&EA!?`6aB@$\n",
    "def crypto_Creator(a):\n",
    "    num_numeric, char_lower, char_upper, num_symbol = 0, 0, 0, 0\n",
    "    num_numeric1, char_lower1, char_upper1, num_symbol1 = \"\", \"\", \"\", \"\"\n",
    "    a = a.strip(\" \")\n",
    "    for i in range(len(a)):\n",
    "        if a[i].isdigit():\n",
    "            num_numeric += 1\n",
    "            num_numeric1 += a[i]\n",
    "        elif a[i].islower():\n",
    "            char_lower += 1\n",
    "            char_lower1 += a[i]\n",
    "        elif a[i].isupper():\n",
    "            char_upper += 1\n",
    "            char_upper1 += a[i]\n",
    "        else:\n",
    "            num_symbol += 1\n",
    "            num_symbol1 += a[i]\n",
    "            \n",
    "    print(f\"In the given input there are {num_numeric} numeric characters. Numeric characters: {num_numeric1}\")\n",
    "    print(f\"In the given input there are {char_lower} lowercase characters. Lowercase characters: {char_lower1}\")\n",
    "    print(f\"In the given input there are {char_upper} uppercase characters. Uppercase characters: {char_upper1}\")\n",
    "    print(f\"In the given input there are {num_symbol} symbols. Symbols: {num_symbol1}\")  \n",
    "\n",
    "crypto_Creator(\"K^5Vk&EA!?\\`6aB@$\")"
   ],
   "outputs": [
    {
     "name": "stdout",
     "output_type": "stream",
     "text": [
      "In the given input there are 2 numeric characters. Numeric characters: 56\n",
      "In the given input there are 2 lowercase characters. Lowercase characters: ka\n",
      "In the given input there are 5 uppercase characters. Uppercase characters: KVEAB\n",
      "In the given input there are 8 symbols. Symbols: ^&!?\\`@$\n"
     ]
    }
   ],
   "execution_count": 38
  },
  {
   "cell_type": "markdown",
   "id": "be5f26a055780b7d",
   "metadata": {},
   "source": [
    "2.An acrostic is a poem or other written composition in which there in an encoded message in the prose. This is most commonly done by taking the first letter of each line to spell out a word. Write a function that takes an acrostic as the input and will return the secret message to the user. Include optional arguments to state what makes the first line, as well as what position should be used.(40 points)"
   ]
  },
  {
   "metadata": {
    "ExecuteTime": {
     "end_time": "2024-04-07T17:54:01.174008Z",
     "start_time": "2024-04-07T17:54:01.145766Z"
    }
   },
   "cell_type": "code",
   "source": [
    "# Define the secret_message function\n",
    "def secret_message(aa):\n",
    "    secret = \"\"\n",
    "    for line in aa.split('\\n'):\n",
    "        if line:\n",
    "            secret += line[0]\n",
    "    return secret\n",
    "secret_message(\"SATOR\\nAREPO\\nTENE\\nOPERA\\nROTAS\\n\")    \n"
   ],
   "id": "bfc49ffe68d83b04",
   "outputs": [
    {
     "data": {
      "text/plain": [
       "'SATOR'"
      ]
     },
     "execution_count": 39,
     "metadata": {},
     "output_type": "execute_result"
    }
   ],
   "execution_count": 39
  },
  {
   "cell_type": "code",
   "id": "525776967ac70def",
   "metadata": {
    "ExecuteTime": {
     "end_time": "2024-04-07T18:02:46.059679Z",
     "start_time": "2024-04-07T18:02:46.043343Z"
    }
   },
   "source": [
    "def secret_message(aa):\n",
    "    secret = \"\"\n",
    "    for line in aa.split('\\n'):\n",
    "        for char in line:\n",
    "            if char.isalpha():\n",
    "                secret += char\n",
    "                break  # Stop after finding the first alphabetical character\n",
    "    return secret\n",
    "\n",
    "# Define the input text\n",
    "bb = 'Elizabeth it is in vain you say\\t“Love not” – thou sayest it in so sweet a way:\\t In vain those words from thee or L.E.L.\\t Zantippe’s talents had enforced so well: Ah! If that language from thy heart arise,\\t Breath it less gently forth — and veil thine eyes.\\t Endymion, recollect, when Luna tried\\t To cure his love – was cured of all beside\\t His folly – pride – and passion – for he died.“An Acrostic” by Edgar Allen Poe'\n",
    "\n",
    "bb = bb.replace(\"\\t\",\"\\n\")\n",
    "# Apply the secret_message function to the input text\n",
    "result = secret_message(bb)\n",
    "\n",
    "# Print the result\n",
    "print(result)\n"
   ],
   "outputs": [
    {
     "name": "stdout",
     "output_type": "stream",
     "text": [
      "ELIZBETH\n"
     ]
    }
   ],
   "execution_count": 47
  },
  {
   "cell_type": "markdown",
   "id": "af160fa406afe008",
   "metadata": {},
   "source": [
    "Modify the README.md file associated with your submission, with answers for the following questions. (20 points)\n",
    "\n",
    "What is the purpose of this program(s)?\n",
    "\n",
    "What does this program take as input?\n",
    "\n",
    "What is the expected out put of the program?\n",
    "\n",
    "What type of execution is included in your program?\n",
    "\n",
    "How could your program be improved?"
   ]
  }
 ],
 "metadata": {
  "kernelspec": {
   "display_name": "Python 3 (ipykernel)",
   "language": "python",
   "name": "python3"
  },
  "language_info": {
   "codemirror_mode": {
    "name": "ipython",
    "version": 3
   },
   "file_extension": ".py",
   "mimetype": "text/x-python",
   "name": "python",
   "nbconvert_exporter": "python",
   "pygments_lexer": "ipython3",
   "version": "3.10.9"
  }
 },
 "nbformat": 4,
 "nbformat_minor": 5
}
